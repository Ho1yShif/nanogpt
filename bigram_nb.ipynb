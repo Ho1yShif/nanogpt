{
 "cells": [
  {
   "cell_type": "markdown",
   "metadata": {},
   "source": [
    "# Developing Bigram (Baseline Model)"
   ]
  },
  {
   "cell_type": "markdown",
   "metadata": {},
   "source": [
    "## Setup"
   ]
  },
  {
   "cell_type": "code",
   "execution_count": 60,
   "metadata": {},
   "outputs": [
    {
     "data": {
      "text/plain": [
       "<torch._C.Generator at 0x107819450>"
      ]
     },
     "execution_count": 60,
     "metadata": {},
     "output_type": "execute_result"
    }
   ],
   "source": [
    "import torch\n",
    "import torch.nn as nn\n",
    "from torch.nn import functional as F\n",
    "torch.manual_seed(1337)"
   ]
  },
  {
   "cell_type": "code",
   "execution_count": 61,
   "metadata": {},
   "outputs": [
    {
     "name": "stdout",
     "output_type": "stream",
     "text": [
      "--2023-10-03 16:34:44--  https://raw.githubusercontent.com/karpathy/char-rnn/master/data/tinyshakespeare/input.txt\n",
      "Resolving raw.githubusercontent.com (raw.githubusercontent.com)... 185.199.109.133, 185.199.111.133, 185.199.108.133, ...\n",
      "Connecting to raw.githubusercontent.com (raw.githubusercontent.com)|185.199.109.133|:443... connected.\n",
      "HTTP request sent, awaiting response... 200 OK\n",
      "Length: 1115394 (1.1M) [text/plain]\n",
      "Saving to: ‘input.txt.1’\n",
      "\n",
      "input.txt.1         100%[===================>]   1.06M  --.-KB/s    in 0.1s    \n",
      "\n",
      "2023-10-03 16:34:44 (8.54 MB/s) - ‘input.txt.1’ saved [1115394/1115394]\n",
      "\n"
     ]
    }
   ],
   "source": [
    "\"\"\"Download Shakespeare training dataset\"\"\"\n",
    "!wget https://raw.githubusercontent.com/karpathy/char-rnn/master/data/tinyshakespeare/input.txt"
   ]
  },
  {
   "cell_type": "code",
   "execution_count": 62,
   "metadata": {},
   "outputs": [],
   "source": [
    "\"\"\"Read Shakespeare file\"\"\"\n",
    "with open('input.txt', 'r', encoding='utf-8') as file:\n",
    "\ttext = file.read()"
   ]
  },
  {
   "cell_type": "code",
   "execution_count": 63,
   "metadata": {},
   "outputs": [
    {
     "name": "stdout",
     "output_type": "stream",
     "text": [
      "The Shakespeare file has 1,115,394 characters\n"
     ]
    }
   ],
   "source": [
    "print(f'The Shakespeare file has {len(text):,} characters')"
   ]
  },
  {
   "cell_type": "code",
   "execution_count": 64,
   "metadata": {},
   "outputs": [
    {
     "name": "stdout",
     "output_type": "stream",
     "text": [
      "First Citizen:\n",
      "Before we proceed any further, hear me speak.\n",
      "\n",
      "All:\n",
      "Speak, speak.\n",
      "\n",
      "First Citizen:\n",
      "You are all resolved rather to die than to famish?\n",
      "\n",
      "All:\n",
      "Resolved. resolved.\n",
      "\n",
      "First Citizen:\n",
      "First, you know Caius Marcius is chief enemy to the people.\n",
      "\n",
      "All:\n",
      "We know't, we know't.\n",
      "\n",
      "First Citizen:\n",
      "Let us kill him, and we'll have corn at our own price.\n",
      "Is't a verdict?\n",
      "\n",
      "All:\n",
      "No more talking on't; let it be done: away, away!\n",
      "\n",
      "Second Citizen:\n",
      "One word, good citizens.\n",
      "\n",
      "First Citizen:\n",
      "We are accounted poor citizens, the patricians good.\n",
      "What authority surfeits on would relieve us: if they\n",
      "would yield us but the superfluity, while it were\n",
      "wholesome, we might guess they relieved us humanely;\n",
      "but they think we are too dear: the leanness that\n",
      "afflicts us, the object of our misery, is as an\n",
      "inventory to particularise their abundance; our\n",
      "sufferance is a gain to them Let us revenge this with\n",
      "our pikes, ere we become rakes: for the gods know I\n",
      "speak this in hunger for bread, not in thirst for revenge.\n",
      "\n",
      "\n"
     ]
    }
   ],
   "source": [
    "\"\"\"Print first 1K characters\"\"\"\n",
    "print(text[:1000])"
   ]
  },
  {
   "cell_type": "code",
   "execution_count": 65,
   "metadata": {},
   "outputs": [
    {
     "name": "stdout",
     "output_type": "stream",
     "text": [
      "The Shakespeare file has 65 unique characters\n",
      "Vocabulary: \n",
      " !$&',-.3:;?ABCDEFGHIJKLMNOPQRSTUVWXYZabcdefghijklmnopqrstuvwxyz\n"
     ]
    }
   ],
   "source": [
    "unique_chars = sorted(list(set(text)))\n",
    "vocab_size = len(unique_chars)\n",
    "print(f'The Shakespeare file has {vocab_size} unique characters')\n",
    "str_chars = ''.join(unique_chars)\n",
    "print(f'Vocabulary: {str_chars}')\n"
   ]
  },
  {
   "cell_type": "markdown",
   "metadata": {},
   "source": [
    "## Tokenization"
   ]
  },
  {
   "cell_type": "code",
   "execution_count": 66,
   "metadata": {},
   "outputs": [],
   "source": [
    "\"\"\"Map characters to integers\"\"\"\n",
    "string_to_int = {char: idx for idx, char in enumerate(unique_chars)}\n",
    "int_to_string = {idx: char for idx, char in enumerate(unique_chars)}"
   ]
  },
  {
   "cell_type": "code",
   "execution_count": 67,
   "metadata": {},
   "outputs": [],
   "source": [
    "\"\"\"Takes a string as input and outputs a list of integers\"\"\"\n",
    "encode = lambda string: [string_to_int[char] for char in string]\n",
    "\"\"\"Takes a list of integers as input and outputs string\"\"\"\n",
    "decode = lambda integers: ''.join([int_to_string[idx] for idx in integers])"
   ]
  },
  {
   "cell_type": "code",
   "execution_count": 68,
   "metadata": {},
   "outputs": [
    {
     "name": "stdout",
     "output_type": "stream",
     "text": [
      "[58, 43, 57, 58]\n",
      "test\n"
     ]
    }
   ],
   "source": [
    "print(encode('test'))\n",
    "print(decode(encode('test')))"
   ]
  },
  {
   "cell_type": "markdown",
   "metadata": {},
   "source": [
    "## Data Storage"
   ]
  },
  {
   "cell_type": "code",
   "execution_count": 69,
   "metadata": {},
   "outputs": [
    {
     "name": "stdout",
     "output_type": "stream",
     "text": [
      "torch.Size([1115394]) torch.int64\n"
     ]
    }
   ],
   "source": [
    "\"\"\"Encode entire text and store in a toch tensor\"\"\"\n",
    "data = torch.tensor(encode(text), dtype=torch.long)\n",
    "print(data.shape, data.dtype)"
   ]
  },
  {
   "cell_type": "code",
   "execution_count": 70,
   "metadata": {},
   "outputs": [
    {
     "name": "stdout",
     "output_type": "stream",
     "text": [
      "tensor([18, 47, 56, 57, 58,  1, 15, 47, 58, 47, 64, 43, 52, 10,  0, 14, 43, 44,\n",
      "        53, 56, 43,  1, 61, 43,  1, 54, 56, 53, 41, 43, 43, 42,  1, 39, 52, 63,\n",
      "         1, 44, 59, 56, 58, 46, 43, 56,  6,  1, 46, 43, 39, 56,  1, 51, 43,  1,\n",
      "        57, 54, 43, 39, 49,  8,  0,  0, 13, 50, 50, 10,  0, 31, 54, 43, 39, 49,\n",
      "         6,  1, 57, 54, 43, 39, 49,  8,  0,  0, 18, 47, 56, 57, 58,  1, 15, 47,\n",
      "        58, 47, 64, 43, 52, 10,  0, 37, 53, 59])\n"
     ]
    }
   ],
   "source": [
    "print(data[:100])"
   ]
  },
  {
   "cell_type": "code",
   "execution_count": 71,
   "metadata": {},
   "outputs": [],
   "source": [
    "\"\"\"Split data into training (90%) and validation (10%)\"\"\"\n",
    "n = int(len(data) * 0.9)\n",
    "train_data = data[:n]\n",
    "val_data = data[n:]"
   ]
  },
  {
   "cell_type": "markdown",
   "metadata": {},
   "source": [
    "## Chunking\n",
    "- Split training data into sampled chunks with a block size (token length) of 8\n",
    "- For a block size of 8, we actually need 9 chars because the sample is the next predicted char, and we need some context for the next prediction. So, to predict 8 times, we need 9 chars"
   ]
  },
  {
   "cell_type": "code",
   "execution_count": 72,
   "metadata": {},
   "outputs": [
    {
     "data": {
      "text/plain": [
       "tensor([18, 47, 56, 57, 58,  1, 15, 47, 58])"
      ]
     },
     "execution_count": 72,
     "metadata": {},
     "output_type": "execute_result"
    }
   ],
   "source": [
    "block_size = 8\n",
    "train_data[:block_size + 1]"
   ]
  },
  {
   "cell_type": "code",
   "execution_count": 73,
   "metadata": {},
   "outputs": [],
   "source": [
    "\"\"\"\n",
    "Here, X are the input characters and y are the target characters\n",
    "Again, we need to offset by 1 for the targets so that the model has some context to predict from\n",
    "\"\"\"\n",
    "x = train_data[:block_size]\n",
    "y = train_data[1:block_size + 1]"
   ]
  },
  {
   "cell_type": "code",
   "execution_count": 74,
   "metadata": {},
   "outputs": [
    {
     "name": "stdout",
     "output_type": "stream",
     "text": [
      "When input is tensor([18]), target is 47\n",
      "When input is tensor([18, 47]), target is 56\n",
      "When input is tensor([18, 47, 56]), target is 57\n",
      "When input is tensor([18, 47, 56, 57]), target is 58\n",
      "When input is tensor([18, 47, 56, 57, 58]), target is 1\n",
      "When input is tensor([18, 47, 56, 57, 58,  1]), target is 15\n",
      "When input is tensor([18, 47, 56, 57, 58,  1, 15]), target is 47\n",
      "When input is tensor([18, 47, 56, 57, 58,  1, 15, 47]), target is 58\n"
     ]
    }
   ],
   "source": [
    "for t in range(block_size):\n",
    "\t\"\"\"Context is always the characters in x up to and including t\"\"\"\n",
    "\tcontext = x[:t + 1]\n",
    "\ttarget = y[t]\n",
    "\tprint(f'When input is {context}, target is {target}')"
   ]
  },
  {
   "cell_type": "markdown",
   "metadata": {},
   "source": [
    "## Batching and Blocking\n",
    "- Batch size is the number of independent sequences we want to process in parallel on every forward-backward pass of the transformer\n",
    "- Block size is the maximum content length in tokens used to make predictions"
   ]
  },
  {
   "cell_type": "code",
   "execution_count": 75,
   "metadata": {},
   "outputs": [],
   "source": [
    "batch_size = 4\n",
    "block_size = 8"
   ]
  },
  {
   "cell_type": "code",
   "execution_count": 76,
   "metadata": {},
   "outputs": [],
   "source": [
    "def get_batch(split:str):\n",
    "\t\"\"\"The function generates a small batch of data: inputs x and targets y\"\"\"\n",
    "\tdata = train_data if split == 'train' else val_data\n",
    "\t\n",
    "\t\"\"\"Generate 4 random numbers between 0 and n - block_size\n",
    "\tThese will be the starting indices of the 4 sequences in the batch\"\"\"\n",
    "\tn = len(data)\n",
    "\trand_starting_points = torch.randint(n - block_size, (batch_size,))\n",
    "\t\"\"\"\n",
    "\tStack up the inputs and targets for each sequence in the batch into a 4 x 8 tensor\n",
    "\tThe target sequence for each input sequence is the same as the input sequence, but shifted by one character to the right\n",
    "\t\"\"\"\n",
    "\t\"\"\"Converted x and y to tuples in order to avoid an error in the next cell\"\"\"\n",
    "\tx = torch.stack(tuple(data[point:point + block_size] for point in rand_starting_points))\n",
    "\ty = torch.stack(tuple(data[point + 1:point + block_size + 1] for point in rand_starting_points))\n",
    "\treturn x, y"
   ]
  },
  {
   "cell_type": "code",
   "execution_count": 77,
   "metadata": {},
   "outputs": [
    {
     "name": "stdout",
     "output_type": "stream",
     "text": [
      "Inputs:\n",
      "torch.Size([4, 8])\n",
      "tensor([[24, 43, 58,  5, 57,  1, 46, 43],\n",
      "        [44, 53, 56,  1, 58, 46, 39, 58],\n",
      "        [52, 58,  1, 58, 46, 39, 58,  1],\n",
      "        [25, 17, 27, 10,  0, 21,  1, 54]])\n",
      "Targets:\n",
      "torch.Size([4, 8])\n",
      "tensor([[43, 58,  5, 57,  1, 46, 43, 39],\n",
      "        [53, 56,  1, 58, 46, 39, 58,  1],\n",
      "        [58,  1, 58, 46, 39, 58,  1, 46],\n",
      "        [17, 27, 10,  0, 21,  1, 54, 39]])\n"
     ]
    }
   ],
   "source": [
    "xbatch, ybatch = get_batch('train')\n",
    "\n",
    "print('Inputs:')\n",
    "print(xbatch.shape)\n",
    "print(xbatch)\n",
    "\n",
    "print('Targets:')\n",
    "print(ybatch.shape)\n",
    "print(ybatch)"
   ]
  },
  {
   "cell_type": "markdown",
   "metadata": {},
   "source": [
    "The tensor area (4 x 8) is the number of examples contained in the array. The above consists of 32 independent examples, from the transformer's perspective. "
   ]
  },
  {
   "cell_type": "code",
   "execution_count": 78,
   "metadata": {},
   "outputs": [
    {
     "name": "stdout",
     "output_type": "stream",
     "text": [
      "Chunk 1\n",
      "When input is [24], target is 43\n",
      "When input is [24, 43], target is 58\n",
      "When input is [24, 43, 58], target is 5\n",
      "When input is [24, 43, 58, 5], target is 57\n",
      "When input is [24, 43, 58, 5, 57], target is 1\n",
      "When input is [24, 43, 58, 5, 57, 1], target is 46\n",
      "When input is [24, 43, 58, 5, 57, 1, 46], target is 43\n",
      "When input is [24, 43, 58, 5, 57, 1, 46, 43], target is 39\n",
      "Chunk 2\n",
      "When input is [44], target is 53\n",
      "When input is [44, 53], target is 56\n",
      "When input is [44, 53, 56], target is 1\n",
      "When input is [44, 53, 56, 1], target is 58\n",
      "When input is [44, 53, 56, 1, 58], target is 46\n",
      "When input is [44, 53, 56, 1, 58, 46], target is 39\n",
      "When input is [44, 53, 56, 1, 58, 46, 39], target is 58\n",
      "When input is [44, 53, 56, 1, 58, 46, 39, 58], target is 1\n",
      "Chunk 3\n",
      "When input is [52], target is 58\n",
      "When input is [52, 58], target is 1\n",
      "When input is [52, 58, 1], target is 58\n",
      "When input is [52, 58, 1, 58], target is 46\n",
      "When input is [52, 58, 1, 58, 46], target is 39\n",
      "When input is [52, 58, 1, 58, 46, 39], target is 58\n",
      "When input is [52, 58, 1, 58, 46, 39, 58], target is 1\n",
      "When input is [52, 58, 1, 58, 46, 39, 58, 1], target is 46\n",
      "Chunk 4\n",
      "When input is [25], target is 17\n",
      "When input is [25, 17], target is 27\n",
      "When input is [25, 17, 27], target is 10\n",
      "When input is [25, 17, 27, 10], target is 0\n",
      "When input is [25, 17, 27, 10, 0], target is 21\n",
      "When input is [25, 17, 27, 10, 0, 21], target is 1\n",
      "When input is [25, 17, 27, 10, 0, 21, 1], target is 54\n",
      "When input is [25, 17, 27, 10, 0, 21, 1, 54], target is 39\n"
     ]
    }
   ],
   "source": [
    "for batch in range(batch_size):\n",
    "\tprint(f'Chunk {batch + 1}')\n",
    "\tfor time in range(block_size):\n",
    "\t\tcontext = xbatch[batch, :time + 1]\n",
    "\t\ttarget = ybatch[batch, time]\n",
    "\t\tprint(f'When input is {context.tolist()}, target is {target}')"
   ]
  },
  {
   "cell_type": "markdown",
   "metadata": {},
   "source": [
    "## Baseline: Bigram Language Model\n",
    "Predicts probability of the next token in a sequence given the previous token. It is called a \"bigram\" model because it considers pairs of adjacent words in the sequence. The model is trained on a corpus of text and learns the probability distribution of words in the corpus. The model can then be used to generate new text by sampling from the learned distribution."
   ]
  },
  {
   "cell_type": "code",
   "execution_count": 104,
   "metadata": {},
   "outputs": [],
   "source": [
    "class BigramLanguageModel(nn.Module):\n",
    "\n",
    "\tdef __init__(self, vocab_size):\n",
    "\t\tsuper().__init__()\n",
    "\t\t\"\"\"Each token reads the logits for the next token using a lookup table of embeddings\"\"\"\n",
    "\t\tself.token_embedding_table = nn.Embedding(vocab_size, vocab_size)\n",
    "\t\n",
    "\tdef forward(self, idx, targets=None):\n",
    "\t\t\"\"\"idx and targets are both integer tensors with dimensions (Batch, Time); here (4, 8)\"\"\"\n",
    "\t\t\"\"\"logits is a tensor with dimensions (Batch, Time, Channel); here (4, 8, 65)\"\"\"\n",
    "\t\tlogits = self.token_embedding_table(idx)\n",
    "\n",
    "\t\tif targets is None:\n",
    "\t\t\tloss = None\n",
    "\t\telse:\n",
    "\t\t\t\"\"\"\n",
    "\t\t\tNeed to reshape logits because the cross entropy loss function expects a tensor with 2 dimensions: (Batch * Channel, Time)\n",
    "\t\t\tNeed to reshape targets because the cross entropy loss function expects a tensor with one dimension: (Batch * Time)\n",
    "\t\t\t\"\"\"\n",
    "\t\t\tbatch, time, channel = logits.shape\n",
    "\t\t\tlogits = logits.view(batch * time, channel)\n",
    "\t\t\ttargets = targets.view(batch * time)\n",
    "\t\t\tloss = F.cross_entropy(logits, targets)\n",
    "\t\t\n",
    "\t\treturn logits, loss\n",
    "\t\n",
    "\tdef generate(self, idx, max_new_tokens):\n",
    "\t\t\"\"\"Generates new tokens given a context of existing tokens such that an array of (batch, time) indices becomes (batch, time + 1))\"\"\"\n",
    "\t\t\"\"\"idx is (batch, time) array of indices in the current context\"\"\"\n",
    "\t\tfor _ in range (max_new_tokens):\n",
    "\t\t\t\"\"\"\n",
    "\t\t\tGet predictions\n",
    "\t\t\tCalling self this way invokes the forward method and supplies idx as an argument\n",
    "\t\t\t\"\"\"\n",
    "\t\t\tlogits, loss = self(idx)\n",
    "\t\t\t\"\"\"Focus only on the most recent time step and transform logits into an array of (Batch, Channel)\"\"\"\n",
    "\t\t\tlogits = logits[:, -1, :]\n",
    "\t\t\t\"\"\"Apply softmax to get probabilities for each token in the vocabulary\"\"\"\n",
    "\t\t\tprobs = F.softmax(logits, dim=-1)\n",
    "\t\t\t\"\"\"\n",
    "\t\t\tSample once from the probability distribution to get the next token\n",
    "\t\t\tArray shape: (Batch, 1)\n",
    "\t\t\t\"\"\"\n",
    "\t\t\tidx_next = torch.multinomial(probs, num_samples=1)\n",
    "\t\t\t\"\"\"Append sample index to the running sequence so the final array is (Batch, Time + 1)\"\"\"\n",
    "\t\t\tidx = torch.cat((idx, idx_next), dim=1)\n",
    "\t\treturn idx"
   ]
  },
  {
   "cell_type": "markdown",
   "metadata": {},
   "source": [
    "Why this architecture is silly: <br>\n",
    "A bigram means predicting one character from another. We're only using the last character to predict the next one, but we're still feeding the model the entire context on each iteration"
   ]
  },
  {
   "cell_type": "code",
   "execution_count": 105,
   "metadata": {},
   "outputs": [
    {
     "name": "stdout",
     "output_type": "stream",
     "text": [
      "Shape of logits tensor: torch.Size([32, 65])\n",
      "Loss: 4.626\n"
     ]
    }
   ],
   "source": [
    "model = BigramLanguageModel(vocab_size)\n",
    "\"\"\"Output is the logits for each of the 4 x 8 positions and the loss\"\"\"\n",
    "logits, loss = model(xbatch, ybatch)\n",
    "print(f'Shape of logits tensor: {logits.shape}')\n",
    "print(f'Loss: {loss:.3f}')"
   ]
  },
  {
   "cell_type": "markdown",
   "metadata": {},
   "source": [
    "Since we're using a mathematical negative log loss function, we can estimate the ideal loss using our vocabulary size. <br>\n",
    "Ideally, we want a loss of `-ln(1/65) = ~4.17`"
   ]
  },
  {
   "cell_type": "code",
   "execution_count": 116,
   "metadata": {},
   "outputs": [
    {
     "name": "stdout",
     "output_type": "stream",
     "text": [
      "\n",
      "&:!F.OM$UfEs3MVH.keuIJYRypNEdM? TboX ms\n",
      "q$uEse-P!cCUUjw!bQBSOIJH.orng!U3y?YmYGD mmN:K;rIIIV!VrM;&BLZ\n"
     ]
    }
   ],
   "source": [
    "\"\"\"\n",
    "Supply a tensor of zeros as the initial idx context\n",
    "In vocab, zero represents a newline character, so it makes sense to start here\n",
    "Predict 100 tokens, pull out the first sequence, which is a 1D array of all indices, and convert to a list\n",
    "\"\"\"\n",
    "result = decode(model.generate(idx = torch.zeros((1, 1), dtype=torch.long), max_new_tokens=100)[0].tolist())\n",
    "print(result)"
   ]
  },
  {
   "cell_type": "markdown",
   "metadata": {},
   "source": [
    "## Train Bigram Model"
   ]
  },
  {
   "cell_type": "code",
   "execution_count": 125,
   "metadata": {},
   "outputs": [],
   "source": [
    "\"\"\"We can get away with a high learning rate since we're using a small network\"\"\"\n",
    "optimizer = torch.optim.AdamW(model.parameters(), lr=1e-3)"
   ]
  },
  {
   "cell_type": "code",
   "execution_count": 126,
   "metadata": {},
   "outputs": [
    {
     "name": "stdout",
     "output_type": "stream",
     "text": [
      "Loss after 1000 iterations: 2.421\n"
     ]
    }
   ],
   "source": [
    "batch_size = 32\n",
    "for steps in range(10000):\n",
    "\t\"\"\"Sample data\"\"\"\n",
    "\txbatch, ybatch = get_batch('train')\n",
    "\n",
    "\t\"\"\"Forward pass and evaluate loss\"\"\"\n",
    "\tlogits, loss = model(xbatch, ybatch)\n",
    "\toptimizer.zero_grad(set_to_none=True)\n",
    "\t\"\"\"Backward pass to compute gradients\"\"\"\n",
    "\tloss.backward()\n",
    "\t\"\"\"Use gradients to update parameters\"\"\"\n",
    "\toptimizer.step()\n",
    "\n",
    "print(f'Loss after 10000 iterations: {loss.item():.3f}')"
   ]
  },
  {
   "cell_type": "code",
   "execution_count": 129,
   "metadata": {},
   "outputs": [
    {
     "name": "stdout",
     "output_type": "stream",
     "text": [
      "\n",
      "Hecry! is nd ichex.\n",
      "F mut winorue tit ha pr G tceavever hok do pus me o aninthem beiut met.\n",
      "Yofayouen te ioymo mpous o ppeser; one mbuser ch they, ico Go bris, whtch an Orivear:\n",
      "\n",
      "Touncr ckike bareavey ly y m Re ghaild mom\n",
      "BOPlyraveipl, pople jusm thewheryane,-- std ryme.\n",
      "LAnthe ty sho ls--s, ws;\n",
      "AROK:\n",
      "P's cthefay fonthinthe wochor, nd\n",
      "An ms d n Lacorave mplou havethitax hARIn yomphe I cho, d lesto\n"
     ]
    }
   ],
   "source": [
    "result = decode(model.generate(idx = torch.zeros((1, 1), dtype=torch.long), max_new_tokens=400)[0].tolist())\n",
    "print(result)"
   ]
  },
  {
   "cell_type": "markdown",
   "metadata": {},
   "source": [
    "New result is still nonsense but also a dramatic improvement from the untrained model|"
   ]
  },
  {
   "cell_type": "code",
   "execution_count": null,
   "metadata": {},
   "outputs": [],
   "source": []
  }
 ],
 "metadata": {
  "kernelspec": {
   "display_name": "llm_venv",
   "language": "python",
   "name": "python3"
  },
  "language_info": {
   "codemirror_mode": {
    "name": "ipython",
    "version": 3
   },
   "file_extension": ".py",
   "mimetype": "text/x-python",
   "name": "python",
   "nbconvert_exporter": "python",
   "pygments_lexer": "ipython3",
   "version": "3.9.6"
  },
  "orig_nbformat": 4
 },
 "nbformat": 4,
 "nbformat_minor": 2
}
